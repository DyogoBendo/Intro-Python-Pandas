{
  "cells": [
    {
      "cell_type": "markdown",
      "metadata": {
        "id": "YnobK_EAIJcb"
      },
      "source": [
        "Importando dados do json para dataframe"
      ]
    },
    {
      "cell_type": "code",
      "execution_count": null,
      "metadata": {
        "id": "s-sLXGZrE5Hi"
      },
      "outputs": [],
      "source": [
        "import pandas as pd\n",
        "\n",
        "dataframe_personagens = pd.read_json('/content/drive/MyDrive/Estudos/IFPR/RDE/Tópicos 1/character.json')\n",
        "dataframe_episodios = pd.read_json(\"/content/drive/MyDrive/Estudos/IFPR/RDE/Tópicos 1/episode.json\")"
      ]
    },
    {
      "cell_type": "markdown",
      "metadata": {
        "id": "D-7QD1DfH_tF"
      },
      "source": [
        "Quantos personagens existem na lista??"
      ]
    },
    {
      "cell_type": "code",
      "execution_count": null,
      "metadata": {
        "colab": {
          "base_uri": "https://localhost:8080/"
        },
        "id": "yESu-dmTI4c2",
        "outputId": "5fb5c502-42d1-4280-93b7-b36ce4d76a50"
      },
      "outputs": [
        {
          "name": "stdout",
          "output_type": "stream",
          "text": [
            "Existem 100 personagens!\n"
          ]
        }
      ],
      "source": [
        "numero_linhas, numero_colunas = dataframe_personagens.shape\n",
        "\n",
        "print(f\"Existem {numero_linhas} personagens!\")"
      ]
    },
    {
      "cell_type": "markdown",
      "metadata": {
        "id": "nYj9siEKJdnh"
      },
      "source": [
        "Quantos personagens são humanos??"
      ]
    },
    {
      "cell_type": "code",
      "execution_count": null,
      "metadata": {
        "colab": {
          "base_uri": "https://localhost:8080/"
        },
        "id": "SjiBwIt-JgWw",
        "outputId": "5600b0c8-c5c7-412f-87d5-7316381187d0"
      },
      "outputs": [
        {
          "name": "stdout",
          "output_type": "stream",
          "text": [
            "Existem 48 personagens humanos!!\n"
          ]
        }
      ],
      "source": [
        "personagens_humanos = dataframe_personagens[\"species\"] == \"Human\"\n",
        "dataframe_personagens_humanos = dataframe_personagens.loc[personagens_humanos]\n",
        "numero_linhas, numero_colunas = dataframe_personagens_humanos.shape\n",
        "\n",
        "print(f\"Existem {numero_linhas} personagens humanos!!\")"
      ]
    },
    {
      "cell_type": "markdown",
      "metadata": {
        "id": "QAT-zA8OKU2h"
      },
      "source": [
        "Quantos personagens são alienígenas?"
      ]
    },
    {
      "cell_type": "code",
      "execution_count": null,
      "metadata": {
        "colab": {
          "base_uri": "https://localhost:8080/"
        },
        "id": "5NZAumidKZV3",
        "outputId": "52f25be3-4be9-4745-8f34-2747e5ff77f1"
      },
      "outputs": [
        {
          "name": "stdout",
          "output_type": "stream",
          "text": [
            "Existem 27 personagens alienígenas!!\n"
          ]
        }
      ],
      "source": [
        "personagens_alienigenas = dataframe_personagens[\"species\"] == \"Alien\"\n",
        "dataframe_personagens_alienigenas = dataframe_personagens.loc[personagens_alienigenas]\n",
        "numero_linhas, numero_colunas = dataframe_personagens_alienigenas.shape\n",
        "\n",
        "print(f\"Existem {numero_linhas} personagens alienígenas!!\")"
      ]
    },
    {
      "cell_type": "markdown",
      "metadata": {
        "id": "j4ZMzRvcKqyn"
      },
      "source": [
        "Há quantos tipos de alienígenas diferentes?"
      ]
    },
    {
      "cell_type": "code",
      "execution_count": null,
      "metadata": {
        "colab": {
          "base_uri": "https://localhost:8080/"
        },
        "id": "7npq0ZByKuzB",
        "outputId": "2cfa9463-7bd3-41f9-b874-73ae6bc7a647"
      },
      "outputs": [
        {
          "name": "stdout",
          "output_type": "stream",
          "text": [
            "Existem 16 tipos de alienígenas!!\n"
          ]
        }
      ],
      "source": [
        "tipos_alienigenas = dataframe_personagens_alienigenas[\"type\"].value_counts()\n",
        "\n",
        "quantidade_tipos = len(tipos_alienigenas.keys())\n",
        "\n",
        "print(f\"Existem {quantidade_tipos} tipos de alienígenas!!\")"
      ]
    },
    {
      "cell_type": "markdown",
      "metadata": {
        "id": "Rv_e-1_yMOVi"
      },
      "source": [
        "Quantos alienígenas são homens equantos são mulheres?"
      ]
    },
    {
      "cell_type": "code",
      "execution_count": null,
      "metadata": {
        "colab": {
          "base_uri": "https://localhost:8080/"
        },
        "id": "dNyADU-kMoUV",
        "outputId": "6243d07a-7384-4a0e-8874-2ad8d87a8340"
      },
      "outputs": [
        {
          "name": "stdout",
          "output_type": "stream",
          "text": [
            "Existem 15 alienígenas homens e 4 alienígenas mulheres!!\n"
          ]
        }
      ],
      "source": [
        "personagens_alienigenas_sexo = dataframe_personagens_alienigenas[[\"gender\"]].groupby(\"gender\").size()\n",
        "qttd_alienginas_homens = personagens_alienigenas_sexo[\"Male\"]\n",
        "qttd_alienginas_mulheres = personagens_alienigenas_sexo[\"Female\"]\n",
        "\n",
        "print(f\"Existem {qttd_alienginas_homens} alienígenas homens e {qttd_alienginas_mulheres} alienígenas mulheres!!\")\n"
      ]
    },
    {
      "cell_type": "markdown",
      "metadata": {
        "id": "rfsf0t91MdIe"
      },
      "source": [
        "Qual o nome do episódio em que o personagem Crocubot aparece?"
      ]
    },
    {
      "cell_type": "code",
      "execution_count": null,
      "metadata": {
        "colab": {
          "base_uri": "https://localhost:8080/"
        },
        "id": "8iH88IkVQioe",
        "outputId": "fd03bdc8-1ad4-45a1-dbcd-3bf0020cfad3"
      },
      "outputs": [
        {
          "name": "stdout",
          "output_type": "stream",
          "text": [
            "O nome do episódio é: Vindicators 3: The Return of Worldender\n"
          ]
        }
      ],
      "source": [
        "crocubot = dataframe_personagens.loc[dataframe_personagens[\"name\"] == \"Crocubot\"]\n",
        "crocubot_episode_url = crocubot[\"episode\"].values[0]\n",
        "\n",
        "crocubot_episode_id = int(crocubot_episode_url[0].split(\"/\")[-1])\n",
        "\n",
        "episode = dataframe_episodios.loc[dataframe_episodios[\"id\"] == crocubot_episode_id]\n",
        "\n",
        "episode_name = episode[\"name\"].values[0]\n",
        "print(f\"O nome do episódio é: {episode_name}\")\n"
      ]
    },
    {
      "cell_type": "markdown",
      "metadata": {
        "id": "U5hw5t43UTNb"
      },
      "source": [
        "Quantos personagens estão em planetas chamados Earth, independente do universo?"
      ]
    },
    {
      "cell_type": "code",
      "execution_count": null,
      "metadata": {
        "id": "AMG89hrfUZ5Z"
      },
      "outputs": [],
      "source": [
        "qttd_personagens_earth = 0\n",
        "\n",
        "for index, row in dataframe_personagens.iterrows():\n",
        "  location = row[\"location\"]\n",
        "  if \"Earth\" in location[\"name\"]:    \n",
        "    qttd_personagens_earth += 1\n",
        "\n",
        "print(f\"Quantidade de pessoas em planetas chamados Earth: {qttd_personagens_earth}\")"
      ]
    },
    {
      "cell_type": "markdown",
      "metadata": {
        "id": "_OHXN5apXV9i"
      },
      "source": [
        "Em quantos episódios diferentes aparecem personagens da espécie alienígena?"
      ]
    },
    {
      "cell_type": "code",
      "execution_count": null,
      "metadata": {
        "colab": {
          "base_uri": "https://localhost:8080/"
        },
        "id": "8BpYr3q6XjOh",
        "outputId": "4360fa0b-d6ed-4440-a20f-a3c8e78f52dd"
      },
      "outputs": [
        {
          "name": "stdout",
          "output_type": "stream",
          "text": [
            "Existem 19 episódios com aliens!!\n"
          ]
        }
      ],
      "source": [
        "episodios_alienigenas = 0\n",
        "\n",
        "for index_episode, row_episode in dataframe_episodios.iterrows():\n",
        "  personagens_episodio = row_episode[\"characters\"]\n",
        "  tem_alien = False\n",
        "  for p in personagens_episodio:\n",
        "    id_personagem = int(p.split(\"/\")[-1])\n",
        "\n",
        "    if id_personagem <= 100:\n",
        "      personagem = dataframe_personagens.loc[dataframe_personagens[\"id\"] == id_personagem]    \n",
        "      especie_personagem = personagem[\"species\"].values[0]\n",
        "\n",
        "      if especie_personagem == \"Alien\":\n",
        "        tem_alien = True\n",
        "\n",
        "  if tem_alien:\n",
        "    episodios_alienigenas += 1\n",
        "\n",
        "print(f\"Existem {episodios_alienigenas} episódios com aliens!!\")\n"
      ]
    }
  ],
  "metadata": {
    "colab": {
      "collapsed_sections": [],
      "name": "rick_morty.ipynb",
      "provenance": []
    },
    "interpreter": {
      "hash": "916dbcbb3f70747c44a77c7bcd40155683ae19c65e1c03b4aa3499c5328201f1"
    },
    "kernelspec": {
      "display_name": "Python 3.8.5 64-bit",
      "name": "python3"
    },
    "language_info": {
      "name": "python",
      "version": "3.8.5"
    }
  },
  "nbformat": 4,
  "nbformat_minor": 0
}
